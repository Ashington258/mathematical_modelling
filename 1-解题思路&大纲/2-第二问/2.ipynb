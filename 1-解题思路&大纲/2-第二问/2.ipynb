{
 "cells": [
  {
   "cell_type": "markdown",
   "metadata": {},
   "source": [
    "# 不考虑数量，拆解重新装配，不考虑退回拆解\n",
    "\n",
    "<!--\n",
    " * @Author: Ashington ashington258@proton.me\n",
    " * @Date: 2024-09-06 08:02:28\n",
    " * @LastEditors: Ashington ashington258@proton.me\n",
    " * @LastEditTime: 2024-09-06 22:23:48\n",
    " * @FilePath: \\mathematical_modelling\\1-解题思路&大纲\\2-第二问\\2.md\n",
    " * @Description: 请填写简介\n",
    " * 联系方式:921488837@qq.com\n",
    " * Copyright (c) 2024 by ${git_name_email}, All Rights Reserved. \n",
    "-->\n",
    "让我们根据问题2来构建一个详细的数学模型。该模型将考虑检测成本、装配成本、市场售价、拆解费用以及调换损失等因素。\n",
    "\n",
    "### 变量定义\n",
    "- \\( x_i \\)：第 \\( i \\) 种零配件是否进行检测的决策变量，\\( x_i = 1 \\) 表示进行检测，\\( x_i = 0 \\) 表示不检测。\n",
    "- \\( y \\)：成品是否进行检测的决策变量，\\( y = 1 \\) 表示进行检测，\\( y = 0 \\) 表示不检测。\n",
    "- \\( z \\)：不合格成品是否进行拆解的决策变量，\\( z = 1 \\) 表示进行拆解，\\( z = 0 \\) 表示直接丢弃。\n",
    "\n",
    "### 参数\n",
    "- \\( p_i \\)：第 \\( i \\) 种零配件的次品率。\n",
    "- \\( c_i \\)：第 \\( i \\) 种零配件的购买单价。\n",
    "- \\( d_i \\)：检测第 \\( i \\) 种零配件的成本。\n",
    "- \\( p_f \\)：成品的次品率。\n",
    "- \\( c_f \\)：成品的装配成本。\n",
    "- \\( d_f \\)：成品的检测成本。\n",
    "- \\( s \\)：市场售价。\n",
    "- \\( l \\)：调换损失。\n",
    "- \\( r \\)：拆解费用。\n",
    "\n",
    "### 目标函数\n",
    "目标是最小化总成本，包括购买成本、检测成本、装配成本、可能的拆解和调换成本。\n",
    "\\[\n",
    "\\text{Minimize} \\quad Z = \\sum_{i=1}^2 \\left( c_i + x_i \\cdot d_i \\right) + c_f + y \\cdot d_f + (1 - y) \\cdot p_f \\cdot l + z \\cdot p_f \\cdot r\n",
    "\\]\n",
    "\n",
    "### 约束条件\n",
    "1. **质量控制约束**：如果零配件没有被检测，则整个生产过程的质量可能受影响。\n",
    "   \\[\n",
    "   x_i = 0 \\implies p_f = \\text{调整后的成品次品率}\n",
    "   \\]\n",
    "   这里，次品率的调整需要根据实际情况来设定。\n",
    "\n",
    "2. **市场需求满足约束**：确保市场需求得到满足，需要对成品进行检测或者直接上市销售。\n",
    "   \\[\n",
    "   y = 1 \\quad \\text{或} \\quad y = 0\n",
    "   \\]\n",
    "\n",
    "3. **退货处理约束**：不合格成品的处理方式，直接丢弃或拆解。\n",
    "   \\[\n",
    "   z = 1 \\quad \\text{或} \\quad z = 0\n",
    "   \\]\n",
    "\n",
    "这个模型是一个多目标决策模型，可以用线性或整数规划方法求解。针对不同情况的具体数值，你可以使用如CPLEX、Gurobi等优化软件来进行求解。这样的模型可以根据企业的实际运营数据调整，以适应不同的生产情况和市场需求。如果你需要更具体的建模帮助或者实现代码，可以继续询问。"
   ]
  },
  {
   "cell_type": "code",
   "execution_count": 1,
   "metadata": {},
   "outputs": [
    {
     "name": "stdout",
     "output_type": "stream",
     "text": [
      "x1 = 0.0\n",
      "x2 = 0.0\n",
      "y = 0.0\n",
      "z = 0.0\n",
      "Total Cost = 28.6\n"
     ]
    }
   ],
   "source": [
    "from pulp import LpProblem, LpMinimize, LpVariable, lpSum\n",
    "\n",
    "# 定义问题\n",
    "model = LpProblem(\"Optimal_Decision\", LpMinimize)\n",
    "\n",
    "# 定义决策变量\n",
    "x1 = LpVariable(\"x1\", cat=\"Binary\")\n",
    "x2 = LpVariable(\"x2\", cat=\"Binary\")\n",
    "y = LpVariable(\"y\", cat=\"Binary\")\n",
    "z = LpVariable(\"z\", cat=\"Binary\")\n",
    "\n",
    "# 参数（示例值）\n",
    "c1, c2, cf = 4, 18, 6\n",
    "d1, d2, df = 2, 3, 3\n",
    "pf = 0.1\n",
    "l = 6\n",
    "r = 5\n",
    "\n",
    "# 目标函数\n",
    "model += (c1 + x1 * d1) + (c2 + x2 * d2) + cf + y * df + (1 - y) * pf * l + z * pf * r\n",
    "\n",
    "# 解决问题\n",
    "model.solve()\n",
    "\n",
    "# 输出结果\n",
    "for v in model.variables():\n",
    "    print(f\"{v.name} = {v.varValue}\")\n",
    "\n",
    "print(f\"Total Cost = {model.objective.value()}\")"
   ]
  },
  {
   "cell_type": "markdown",
   "metadata": {},
   "source": [
    "# 考虑检测出的不合格成品是否进行拆解，如果不拆解，直接将不合格成品丢弃；否则对拆解后的零配件，重复步骤(1)和步骤(2)\n"
   ]
  }
 ],
 "metadata": {
  "kernelspec": {
   "display_name": "Orbbec",
   "language": "python",
   "name": "python3"
  },
  "language_info": {
   "codemirror_mode": {
    "name": "ipython",
    "version": 3
   },
   "file_extension": ".py",
   "mimetype": "text/x-python",
   "name": "python",
   "nbconvert_exporter": "python",
   "pygments_lexer": "ipython3",
   "version": "3.10.14"
  }
 },
 "nbformat": 4,
 "nbformat_minor": 2
}
